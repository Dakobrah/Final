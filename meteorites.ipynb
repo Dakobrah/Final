{
 "cells": [
  {
   "cell_type": "markdown",
   "metadata": {},
   "source": [
    "### Imports"
   ]
  },
  {
   "cell_type": "code",
   "execution_count": null,
   "metadata": {},
   "outputs": [],
   "source": [
    "import numpy as np\n",
    "import pandas as pd\n",
    "import matplotlib.pyplot as plt\n",
    "import seaborn as sns\n",
    "\n",
    "from sklearn.model_selection import train_test_split\n",
    "\n",
    "\n",
    "# import warnings\n",
    "# warnings.filterwarnings('ignore')\n"
   ]
  },
  {
   "cell_type": "markdown",
   "metadata": {},
   "source": [
    "### Read and clean data"
   ]
  },
  {
   "cell_type": "code",
   "execution_count": null,
   "metadata": {},
   "outputs": [],
   "source": [
    "df = pd.read_csv(\"data/meteorite-landings.csv\")\n",
    "X = df.columns\n",
    "y = df['recclass']\n",
    "\n",
    "# X_train, X_test, y_train, y_test = train_test_split(\n",
    "#     X, y, test_size=0.2, random_state=42\n",
    "# )"
   ]
  },
  {
   "cell_type": "markdown",
   "metadata": {},
   "source": [
    "### High-level overview of data"
   ]
  },
  {
   "cell_type": "code",
   "execution_count": null,
   "metadata": {},
   "outputs": [],
   "source": [
    "# Calculate how many meteorites fell in each year\n",
    "year_counts = df.groupby(\"year\").count()[\"name\"]\n",
    "# Drop years with less than 10 meteorites\n",
    "year_counts = year_counts[year_counts > 100]\n",
    "\n",
    "# convert year_counts to int\n",
    "year_counts = year_counts.astype(int)\n",
    "\n",
    "# Plot the number of meteorites that fell each year\n",
    "plt.figure(figsize=(10, 5))\n",
    "sns.barplot(x=year_counts.index, y=year_counts.values)\n",
    "plt.xticks(rotation=90)\n",
    "plt.grid(True)\n",
    "plt.xlabel(\"Year\")\n",
    "plt.ylabel(\"Number of meteorites\")\n",
    "plt.title(\"Number of meteorites found each year (only > 100 shown)\")\n",
    "plt.show()"
   ]
  },
  {
   "cell_type": "code",
   "execution_count": null,
   "metadata": {},
   "outputs": [],
   "source": [
    "# Plot the masses of the meteorites\n",
    "sns.lineplot(df[\"mass (g)\"])\n",
    "plt.grid(True)\n",
    "plt.xlabel(\"Mass (g)\")\n",
    "plt.ylabel(\"Number of meteorites\")\n",
    "plt.title(\"Mass of meteorites found\")\n",
    "plt.show()\n"
   ]
  },
  {
   "cell_type": "markdown",
   "metadata": {},
   "source": []
  },
  {
   "cell_type": "code",
   "execution_count": null,
   "metadata": {},
   "outputs": [],
   "source": [
    "# show a map of the world with the meteorite landings\n",
    "import folium\n",
    "\n",
    "# Create a map of the world\n",
    "m = folium.Map(location=[0, 0], zoom_start=2)\n",
    "\n",
    "# Add a marker for every meteorite\n",
    "for index, row in df.iterrows():\n",
    "    if not pd.isnull(row[\"reclat\"]) and not pd.isnull(row[\"reclong\"]):\n",
    "        folium.Marker(\n",
    "            location=[row[\"reclat\"], row[\"reclong\"]],\n",
    "            popup=row[\"name\"],\n",
    "            icon=folium.Icon(color=\"red\", icon=\"info-sign\"),\n",
    "        ).add_to(m)\n",
    "\n",
    "# Show the map\n",
    "# m"
   ]
  }
 ],
 "metadata": {
  "kernelspec": {
   "display_name": "Python 3.8.10 64-bit",
   "language": "python",
   "name": "python3"
  },
  "language_info": {
   "codemirror_mode": {
    "name": "ipython",
    "version": 3
   },
   "file_extension": ".py",
   "mimetype": "text/x-python",
   "name": "python",
   "nbconvert_exporter": "python",
   "pygments_lexer": "ipython3",
   "version": "3.8.10"
  },
  "orig_nbformat": 4,
  "vscode": {
   "interpreter": {
    "hash": "31f2aee4e71d21fbe5cf8b01ff0e069b9275f58929596ceb00d14d90e3e16cd6"
   }
  }
 },
 "nbformat": 4,
 "nbformat_minor": 2
}
